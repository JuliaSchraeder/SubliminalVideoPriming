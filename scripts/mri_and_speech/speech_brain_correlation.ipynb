{
 "cells": [
  {
   "cell_type": "markdown",
   "metadata": {},
   "source": [
    "Canonical Correlation of Speech Features and Brain Activity"
   ]
  },
  {
   "cell_type": "code",
   "execution_count": 7,
   "metadata": {},
   "outputs": [
    {
     "ename": "ModuleNotFoundError",
     "evalue": "No module named 'sklearn'",
     "output_type": "error",
     "traceback": [
      "\u001b[1;31m---------------------------------------------------------------------------\u001b[0m",
      "\u001b[1;31mModuleNotFoundError\u001b[0m                       Traceback (most recent call last)",
      "\u001b[1;32m<ipython-input-7-d5c546070c71>\u001b[0m in \u001b[0;36m<module>\u001b[1;34m\u001b[0m\n\u001b[1;32m----> 1\u001b[1;33m \u001b[1;32mimport\u001b[0m \u001b[0msklearn\u001b[0m\u001b[1;33m.\u001b[0m\u001b[0mcross_decomposition\u001b[0m\u001b[1;33m\u001b[0m\u001b[1;33m\u001b[0m\u001b[0m\n\u001b[0m\u001b[0;32m      2\u001b[0m \u001b[0mprint\u001b[0m\u001b[1;33m(\u001b[0m\u001b[0mdir\u001b[0m\u001b[1;33m(\u001b[0m\u001b[0msklearn\u001b[0m\u001b[1;33m.\u001b[0m\u001b[0mcross_decomposition\u001b[0m\u001b[1;33m)\u001b[0m\u001b[1;33m)\u001b[0m\u001b[1;33m\u001b[0m\u001b[1;33m\u001b[0m\u001b[0m\n",
      "\u001b[1;31mModuleNotFoundError\u001b[0m: No module named 'sklearn'"
     ]
    }
   ],
   "source": [
    "import sklearn.cross_decomposition\n",
    "print(dir(sklearn.cross_decomposition))\n"
   ]
  },
  {
   "cell_type": "code",
   "execution_count": 6,
   "metadata": {},
   "outputs": [
    {
     "ename": "ModuleNotFoundError",
     "evalue": "No module named 'sklearn'",
     "output_type": "error",
     "traceback": [
      "\u001b[1;31m---------------------------------------------------------------------------\u001b[0m",
      "\u001b[1;31mModuleNotFoundError\u001b[0m                       Traceback (most recent call last)",
      "\u001b[1;32m<ipython-input-6-87f9823bf629>\u001b[0m in \u001b[0;36m<module>\u001b[1;34m\u001b[0m\n\u001b[0;32m      1\u001b[0m \u001b[1;32mimport\u001b[0m \u001b[0mscipy\u001b[0m\u001b[1;33m.\u001b[0m\u001b[0mio\u001b[0m\u001b[1;33m\u001b[0m\u001b[1;33m\u001b[0m\u001b[0m\n\u001b[0;32m      2\u001b[0m \u001b[1;32mimport\u001b[0m \u001b[0mpandas\u001b[0m \u001b[1;32mas\u001b[0m \u001b[0mpd\u001b[0m\u001b[1;33m\u001b[0m\u001b[1;33m\u001b[0m\u001b[0m\n\u001b[1;32m----> 3\u001b[1;33m \u001b[1;32mfrom\u001b[0m \u001b[0msklearn\u001b[0m\u001b[1;33m.\u001b[0m\u001b[0mcross_decomposition\u001b[0m \u001b[1;32mimport\u001b[0m \u001b[0mCCA\u001b[0m\u001b[1;33m\u001b[0m\u001b[1;33m\u001b[0m\u001b[0m\n\u001b[0m\u001b[0;32m      4\u001b[0m \u001b[1;32mimport\u001b[0m \u001b[0mstatsmodels\u001b[0m\u001b[1;33m.\u001b[0m\u001b[0mformula\u001b[0m\u001b[1;33m.\u001b[0m\u001b[0mapi\u001b[0m \u001b[1;32mas\u001b[0m \u001b[0msmf\u001b[0m\u001b[1;33m\u001b[0m\u001b[1;33m\u001b[0m\u001b[0m\n\u001b[0;32m      5\u001b[0m \u001b[1;32mfrom\u001b[0m \u001b[0mstatsmodels\u001b[0m\u001b[1;33m.\u001b[0m\u001b[0mstats\u001b[0m\u001b[1;33m.\u001b[0m\u001b[0mmediation\u001b[0m \u001b[1;32mimport\u001b[0m \u001b[0mMediation\u001b[0m\u001b[1;33m\u001b[0m\u001b[1;33m\u001b[0m\u001b[0m\n",
      "\u001b[1;31mModuleNotFoundError\u001b[0m: No module named 'sklearn'"
     ]
    }
   ],
   "source": [
    "import scipy.io\n",
    "import pandas as pd\n",
    "from sklearn.cross_decomposition import CCA\n",
    "import statsmodels.formula.api as smf\n",
    "from statsmodels.stats.mediation import Mediation"
   ]
  },
  {
   "cell_type": "code",
   "execution_count": null,
   "metadata": {},
   "outputs": [],
   "source": [
    "\n",
    "\n",
    "# Step 1: Load the .mat file\n",
    "# Load the .mat file containing the ROI data\n",
    "mat_data = scipy.io.loadmat('path_to/extracted_roi_data.mat')\n",
    "\n",
    "# Step 2: Convert the .mat structure to a pandas DataFrame\n",
    "# Initialize an empty list to store rows\n",
    "rows = []\n",
    "\n",
    "# Extract the nested structure from the .mat file\n",
    "extracted_data = mat_data['extracted_data'][0,0]  # Adjust if necessary\n",
    "\n",
    "# Loop through the structure and extract ROI, Contrast, Participant, and MeanValue\n",
    "for roi_name in extracted_data.dtype.names:\n",
    "    roi_data = extracted_data[roi_name][0,0]\n",
    "    for contrast_name in roi_data.dtype.names:\n",
    "        contrast_data = roi_data[contrast_name][0,0]\n",
    "        for participant_name in contrast_data.dtype.names:\n",
    "            mean_value = contrast_data[participant_name][0,0]\n",
    "            rows.append([roi_name, contrast_name, participant_name, mean_value])\n",
    "\n",
    "# Convert to DataFrame\n",
    "df = pd.DataFrame(rows, columns=['ROI', 'Contrast', 'Participant', 'MeanValue'])\n",
    "\n",
    "# Step 3: Prepare the data for CCA\n",
    "# Assume you have separate speech features and brain activity DataFrames\n",
    "# speech_features_df: DataFrame containing speech features (columns) and participants (rows)\n",
    "# brain_activity_df: DataFrame containing brain activity measures (columns) and participants (rows)\n",
    "\n",
    "# Merge the extracted ROI data with your speech features and brain activity data\n",
    "# Replace 'participant_column' with the actual column name containing participant identifiers in your datasets\n",
    "merged_df = df.merge(speech_features_df, left_on='Participant', right_on='participant_column')\n",
    "merged_df = merged_df.merge(brain_activity_df, left_on='Participant', right_on='participant_column')\n",
    "\n",
    "# Step 4: Perform Canonical Correlation Analysis (CCA)\n",
    "# Extract the speech features and brain activity data\n",
    "X = merged_df[speech_features_columns]  # Replace with your actual speech features columns\n",
    "Y = merged_df[brain_activity_columns]   # Replace with your actual brain activity columns\n",
    "\n",
    "# Initialize CCA model\n",
    "cca = CCA(n_components=2)\n",
    "X_c, Y_c = cca.fit_transform(X, Y)\n",
    "\n",
    "# Store the canonical variables in the DataFrame for further analysis\n",
    "merged_df['Canonical_X1'] = X_c[:, 0]\n",
    "merged_df['Canonical_Y1'] = Y_c[:, 0]\n",
    "\n",
    "# Step 5: Include the BDI scores in the DataFrame\n",
    "# Assume 'bdi_scores_df' contains the BDI scores with a column 'Participant' for participant IDs\n",
    "merged_df = merged_df.merge(bdi_scores_df, on='Participant')\n",
    "\n",
    "# Step 6: Perform Mediation Analysis\n",
    "# First model: Canonical X -> BDI (Mediator)\n",
    "model1 = smf.ols('BDI ~ Canonical_X1', data=merged_df).fit()\n",
    "\n",
    "# Second model: BDI -> Canonical Y, controlling for Canonical X\n",
    "model2 = smf.ols('Canonical_Y1 ~ BDI + Canonical_X1', data=merged_df).fit()\n",
    "\n",
    "# Perform the mediation analysis\n",
    "med = Mediation(model1, model2, 'Canonical_X1', 'BDI').fit()\n",
    "print(med.summary())\n"
   ]
  }
 ],
 "metadata": {
  "kernelspec": {
   "display_name": "Bids",
   "language": "python",
   "name": "bids"
  },
  "language_info": {
   "codemirror_mode": {
    "name": "ipython",
    "version": 3
   },
   "file_extension": ".py",
   "mimetype": "text/x-python",
   "name": "python",
   "nbconvert_exporter": "python",
   "pygments_lexer": "ipython3",
   "version": "3.8.10"
  }
 },
 "nbformat": 4,
 "nbformat_minor": 2
}
