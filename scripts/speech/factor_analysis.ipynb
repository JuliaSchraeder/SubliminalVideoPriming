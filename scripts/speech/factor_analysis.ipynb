{
 "cells": [
  {
   "cell_type": "code",
   "execution_count": 2,
   "metadata": {},
   "outputs": [],
   "source": [
    "#pip install factor_analyzer pandas"
   ]
  },
  {
   "cell_type": "code",
   "execution_count": 4,
   "metadata": {},
   "outputs": [],
   "source": [
    "import pandas as pd\n",
    "from factor_analyzer import FactorAnalyzer\n",
    "import matplotlib.pyplot as plt\n",
    "import numpy as np"
   ]
  },
  {
   "cell_type": "code",
   "execution_count": 5,
   "metadata": {},
   "outputs": [
    {
     "data": {
      "text/html": [
       "<div>\n",
       "<style scoped>\n",
       "    .dataframe tbody tr th:only-of-type {\n",
       "        vertical-align: middle;\n",
       "    }\n",
       "\n",
       "    .dataframe tbody tr th {\n",
       "        vertical-align: top;\n",
       "    }\n",
       "\n",
       "    .dataframe thead th {\n",
       "        text-align: right;\n",
       "    }\n",
       "</style>\n",
       "<table border=\"1\" class=\"dataframe\">\n",
       "  <thead>\n",
       "    <tr style=\"text-align: right;\">\n",
       "      <th></th>\n",
       "      <th>bidsvalue</th>\n",
       "      <th>average_mfccs_1_neg</th>\n",
       "      <th>average_mfccs_2_neg</th>\n",
       "      <th>average_mfccs_3_neg</th>\n",
       "      <th>average_mfccs_4_neg</th>\n",
       "      <th>alpha_ratio_mean_neg</th>\n",
       "      <th>alpha_ratio_sd_neg</th>\n",
       "      <th>apq11_shimmer_neg</th>\n",
       "      <th>apq3_shimmer_neg</th>\n",
       "      <th>apq5_shimmer_neg</th>\n",
       "      <th>...</th>\n",
       "      <th>CERQ_Selbstbeschuldigung</th>\n",
       "      <th>CERQ_Akzeptanz</th>\n",
       "      <th>CERQ_Rumination</th>\n",
       "      <th>CERQ_Positive Refokussierung</th>\n",
       "      <th>CERQ_Refokussierung auf Planung</th>\n",
       "      <th>CERQ_Positive Neubewertung</th>\n",
       "      <th>CERQ_Relativieren</th>\n",
       "      <th>CERQ_Katastrophisierung</th>\n",
       "      <th>CERQ_Andere Beschuldigen</th>\n",
       "      <th>bidsvalue</th>\n",
       "    </tr>\n",
       "  </thead>\n",
       "  <tbody>\n",
       "    <tr>\n",
       "      <th>0</th>\n",
       "      <td>58</td>\n",
       "      <td>82.379395</td>\n",
       "      <td>20.768499</td>\n",
       "      <td>19.860287</td>\n",
       "      <td>8.051362</td>\n",
       "      <td>7.284629</td>\n",
       "      <td>6.096077</td>\n",
       "      <td>11.421412</td>\n",
       "      <td>5.298905</td>\n",
       "      <td>7.391673</td>\n",
       "      <td>...</td>\n",
       "      <td>18</td>\n",
       "      <td>9</td>\n",
       "      <td>10</td>\n",
       "      <td>4</td>\n",
       "      <td>7</td>\n",
       "      <td>5</td>\n",
       "      <td>4</td>\n",
       "      <td>13</td>\n",
       "      <td>5</td>\n",
       "      <td>58</td>\n",
       "    </tr>\n",
       "    <tr>\n",
       "      <th>1</th>\n",
       "      <td>35</td>\n",
       "      <td>91.421997</td>\n",
       "      <td>32.314178</td>\n",
       "      <td>19.888418</td>\n",
       "      <td>9.289201</td>\n",
       "      <td>10.718941</td>\n",
       "      <td>7.867776</td>\n",
       "      <td>18.531850</td>\n",
       "      <td>8.018380</td>\n",
       "      <td>10.886191</td>\n",
       "      <td>...</td>\n",
       "      <td>12</td>\n",
       "      <td>16</td>\n",
       "      <td>17</td>\n",
       "      <td>4</td>\n",
       "      <td>8</td>\n",
       "      <td>8</td>\n",
       "      <td>12</td>\n",
       "      <td>8</td>\n",
       "      <td>5</td>\n",
       "      <td>35</td>\n",
       "    </tr>\n",
       "    <tr>\n",
       "      <th>2</th>\n",
       "      <td>34</td>\n",
       "      <td>70.376846</td>\n",
       "      <td>13.177592</td>\n",
       "      <td>12.432057</td>\n",
       "      <td>1.496185</td>\n",
       "      <td>7.619763</td>\n",
       "      <td>7.617054</td>\n",
       "      <td>9.548101</td>\n",
       "      <td>5.130727</td>\n",
       "      <td>6.164726</td>\n",
       "      <td>...</td>\n",
       "      <td>9</td>\n",
       "      <td>16</td>\n",
       "      <td>14</td>\n",
       "      <td>12</td>\n",
       "      <td>16</td>\n",
       "      <td>16</td>\n",
       "      <td>18</td>\n",
       "      <td>4</td>\n",
       "      <td>6</td>\n",
       "      <td>34</td>\n",
       "    </tr>\n",
       "    <tr>\n",
       "      <th>3</th>\n",
       "      <td>108</td>\n",
       "      <td>97.495644</td>\n",
       "      <td>11.368194</td>\n",
       "      <td>25.960098</td>\n",
       "      <td>13.172879</td>\n",
       "      <td>7.972128</td>\n",
       "      <td>7.190350</td>\n",
       "      <td>15.057472</td>\n",
       "      <td>6.300391</td>\n",
       "      <td>8.975165</td>\n",
       "      <td>...</td>\n",
       "      <td>11</td>\n",
       "      <td>11</td>\n",
       "      <td>10</td>\n",
       "      <td>7</td>\n",
       "      <td>14</td>\n",
       "      <td>10</td>\n",
       "      <td>14</td>\n",
       "      <td>5</td>\n",
       "      <td>7</td>\n",
       "      <td>108</td>\n",
       "    </tr>\n",
       "    <tr>\n",
       "      <th>4</th>\n",
       "      <td>46</td>\n",
       "      <td>80.037323</td>\n",
       "      <td>21.050978</td>\n",
       "      <td>8.607089</td>\n",
       "      <td>5.815983</td>\n",
       "      <td>12.940309</td>\n",
       "      <td>12.775001</td>\n",
       "      <td>10.540608</td>\n",
       "      <td>4.699568</td>\n",
       "      <td>5.837134</td>\n",
       "      <td>...</td>\n",
       "      <td>6</td>\n",
       "      <td>17</td>\n",
       "      <td>14</td>\n",
       "      <td>8</td>\n",
       "      <td>10</td>\n",
       "      <td>9</td>\n",
       "      <td>13</td>\n",
       "      <td>7</td>\n",
       "      <td>16</td>\n",
       "      <td>46</td>\n",
       "    </tr>\n",
       "    <tr>\n",
       "      <th>...</th>\n",
       "      <td>...</td>\n",
       "      <td>...</td>\n",
       "      <td>...</td>\n",
       "      <td>...</td>\n",
       "      <td>...</td>\n",
       "      <td>...</td>\n",
       "      <td>...</td>\n",
       "      <td>...</td>\n",
       "      <td>...</td>\n",
       "      <td>...</td>\n",
       "      <td>...</td>\n",
       "      <td>...</td>\n",
       "      <td>...</td>\n",
       "      <td>...</td>\n",
       "      <td>...</td>\n",
       "      <td>...</td>\n",
       "      <td>...</td>\n",
       "      <td>...</td>\n",
       "      <td>...</td>\n",
       "      <td>...</td>\n",
       "      <td>...</td>\n",
       "    </tr>\n",
       "    <tr>\n",
       "      <th>89</th>\n",
       "      <td>96</td>\n",
       "      <td>100.946335</td>\n",
       "      <td>4.733990</td>\n",
       "      <td>22.608526</td>\n",
       "      <td>9.605459</td>\n",
       "      <td>6.579741</td>\n",
       "      <td>4.924329</td>\n",
       "      <td>15.718046</td>\n",
       "      <td>5.776804</td>\n",
       "      <td>7.754120</td>\n",
       "      <td>...</td>\n",
       "      <td>5</td>\n",
       "      <td>15</td>\n",
       "      <td>18</td>\n",
       "      <td>12</td>\n",
       "      <td>20</td>\n",
       "      <td>13</td>\n",
       "      <td>18</td>\n",
       "      <td>8</td>\n",
       "      <td>19</td>\n",
       "      <td>96</td>\n",
       "    </tr>\n",
       "    <tr>\n",
       "      <th>90</th>\n",
       "      <td>131</td>\n",
       "      <td>97.712914</td>\n",
       "      <td>20.029383</td>\n",
       "      <td>31.282303</td>\n",
       "      <td>3.232759</td>\n",
       "      <td>9.392916</td>\n",
       "      <td>7.128253</td>\n",
       "      <td>12.255668</td>\n",
       "      <td>6.100525</td>\n",
       "      <td>8.225302</td>\n",
       "      <td>...</td>\n",
       "      <td>17</td>\n",
       "      <td>13</td>\n",
       "      <td>8</td>\n",
       "      <td>9</td>\n",
       "      <td>12</td>\n",
       "      <td>12</td>\n",
       "      <td>15</td>\n",
       "      <td>7</td>\n",
       "      <td>10</td>\n",
       "      <td>131</td>\n",
       "    </tr>\n",
       "    <tr>\n",
       "      <th>91</th>\n",
       "      <td>114</td>\n",
       "      <td>114.757248</td>\n",
       "      <td>15.659719</td>\n",
       "      <td>29.810190</td>\n",
       "      <td>12.334111</td>\n",
       "      <td>10.178854</td>\n",
       "      <td>6.710355</td>\n",
       "      <td>19.113003</td>\n",
       "      <td>9.024963</td>\n",
       "      <td>12.607795</td>\n",
       "      <td>...</td>\n",
       "      <td>16</td>\n",
       "      <td>16</td>\n",
       "      <td>15</td>\n",
       "      <td>10</td>\n",
       "      <td>14</td>\n",
       "      <td>6</td>\n",
       "      <td>7</td>\n",
       "      <td>9</td>\n",
       "      <td>9</td>\n",
       "      <td>114</td>\n",
       "    </tr>\n",
       "    <tr>\n",
       "      <th>92</th>\n",
       "      <td>49</td>\n",
       "      <td>96.064865</td>\n",
       "      <td>20.491119</td>\n",
       "      <td>13.465354</td>\n",
       "      <td>17.949970</td>\n",
       "      <td>8.608132</td>\n",
       "      <td>6.375060</td>\n",
       "      <td>14.756413</td>\n",
       "      <td>7.586481</td>\n",
       "      <td>9.047230</td>\n",
       "      <td>...</td>\n",
       "      <td>13</td>\n",
       "      <td>8</td>\n",
       "      <td>12</td>\n",
       "      <td>4</td>\n",
       "      <td>10</td>\n",
       "      <td>10</td>\n",
       "      <td>12</td>\n",
       "      <td>6</td>\n",
       "      <td>7</td>\n",
       "      <td>49</td>\n",
       "    </tr>\n",
       "    <tr>\n",
       "      <th>93</th>\n",
       "      <td>103</td>\n",
       "      <td>90.850433</td>\n",
       "      <td>9.350685</td>\n",
       "      <td>14.535485</td>\n",
       "      <td>1.428462</td>\n",
       "      <td>12.015278</td>\n",
       "      <td>12.226860</td>\n",
       "      <td>10.640359</td>\n",
       "      <td>4.393922</td>\n",
       "      <td>5.866117</td>\n",
       "      <td>...</td>\n",
       "      <td>15</td>\n",
       "      <td>14</td>\n",
       "      <td>8</td>\n",
       "      <td>14</td>\n",
       "      <td>14</td>\n",
       "      <td>16</td>\n",
       "      <td>14</td>\n",
       "      <td>6</td>\n",
       "      <td>4</td>\n",
       "      <td>103</td>\n",
       "    </tr>\n",
       "  </tbody>\n",
       "</table>\n",
       "<p>94 rows × 311 columns</p>\n",
       "</div>"
      ],
      "text/plain": [
       "    bidsvalue  average_mfccs_1_neg  average_mfccs_2_neg  average_mfccs_3_neg  \\\n",
       "0          58            82.379395            20.768499            19.860287   \n",
       "1          35            91.421997            32.314178            19.888418   \n",
       "2          34            70.376846            13.177592            12.432057   \n",
       "3         108            97.495644            11.368194            25.960098   \n",
       "4          46            80.037323            21.050978             8.607089   \n",
       "..        ...                  ...                  ...                  ...   \n",
       "89         96           100.946335             4.733990            22.608526   \n",
       "90        131            97.712914            20.029383            31.282303   \n",
       "91        114           114.757248            15.659719            29.810190   \n",
       "92         49            96.064865            20.491119            13.465354   \n",
       "93        103            90.850433             9.350685            14.535485   \n",
       "\n",
       "    average_mfccs_4_neg  alpha_ratio_mean_neg  alpha_ratio_sd_neg  \\\n",
       "0              8.051362              7.284629            6.096077   \n",
       "1              9.289201             10.718941            7.867776   \n",
       "2              1.496185              7.619763            7.617054   \n",
       "3             13.172879              7.972128            7.190350   \n",
       "4              5.815983             12.940309           12.775001   \n",
       "..                  ...                   ...                 ...   \n",
       "89             9.605459              6.579741            4.924329   \n",
       "90             3.232759              9.392916            7.128253   \n",
       "91            12.334111             10.178854            6.710355   \n",
       "92            17.949970              8.608132            6.375060   \n",
       "93             1.428462             12.015278           12.226860   \n",
       "\n",
       "    apq11_shimmer_neg  apq3_shimmer_neg  apq5_shimmer_neg  ...  \\\n",
       "0           11.421412          5.298905          7.391673  ...   \n",
       "1           18.531850          8.018380         10.886191  ...   \n",
       "2            9.548101          5.130727          6.164726  ...   \n",
       "3           15.057472          6.300391          8.975165  ...   \n",
       "4           10.540608          4.699568          5.837134  ...   \n",
       "..                ...               ...               ...  ...   \n",
       "89          15.718046          5.776804          7.754120  ...   \n",
       "90          12.255668          6.100525          8.225302  ...   \n",
       "91          19.113003          9.024963         12.607795  ...   \n",
       "92          14.756413          7.586481          9.047230  ...   \n",
       "93          10.640359          4.393922          5.866117  ...   \n",
       "\n",
       "    CERQ_Selbstbeschuldigung  CERQ_Akzeptanz  CERQ_Rumination  \\\n",
       "0                         18               9               10   \n",
       "1                         12              16               17   \n",
       "2                          9              16               14   \n",
       "3                         11              11               10   \n",
       "4                          6              17               14   \n",
       "..                       ...             ...              ...   \n",
       "89                         5              15               18   \n",
       "90                        17              13                8   \n",
       "91                        16              16               15   \n",
       "92                        13               8               12   \n",
       "93                        15              14                8   \n",
       "\n",
       "    CERQ_Positive Refokussierung  CERQ_Refokussierung auf Planung  \\\n",
       "0                              4                                7   \n",
       "1                              4                                8   \n",
       "2                             12                               16   \n",
       "3                              7                               14   \n",
       "4                              8                               10   \n",
       "..                           ...                              ...   \n",
       "89                            12                               20   \n",
       "90                             9                               12   \n",
       "91                            10                               14   \n",
       "92                             4                               10   \n",
       "93                            14                               14   \n",
       "\n",
       "    CERQ_Positive Neubewertung  CERQ_Relativieren  CERQ_Katastrophisierung  \\\n",
       "0                            5                  4                       13   \n",
       "1                            8                 12                        8   \n",
       "2                           16                 18                        4   \n",
       "3                           10                 14                        5   \n",
       "4                            9                 13                        7   \n",
       "..                         ...                ...                      ...   \n",
       "89                          13                 18                        8   \n",
       "90                          12                 15                        7   \n",
       "91                           6                  7                        9   \n",
       "92                          10                 12                        6   \n",
       "93                          16                 14                        6   \n",
       "\n",
       "    CERQ_Andere Beschuldigen  bidsvalue  \n",
       "0                          5         58  \n",
       "1                          5         35  \n",
       "2                          6         34  \n",
       "3                          7        108  \n",
       "4                         16         46  \n",
       "..                       ...        ...  \n",
       "89                        19         96  \n",
       "90                        10        131  \n",
       "91                         9        114  \n",
       "92                         7         49  \n",
       "93                         4        103  \n",
       "\n",
       "[94 rows x 311 columns]"
      ]
     },
     "execution_count": 5,
     "metadata": {},
     "output_type": "execute_result"
    }
   ],
   "source": [
    "# Load your combined dataset\n",
    "combined_df = pd.read_csv('W:/Fmri_Forschung/Allerlei/JuliaS/GitHub/SubliminalVideoPriming/data/speech/combined_speech_demographic_info.csv', sep =\";\")\n",
    "# Extract the numeric part of the 'bids_number' and store it in a new column 'bidsvalue'\n",
    "combined_df['bidsvalue'] = combined_df['bids_number'].str.extract('(\\d+)').astype(int)\n",
    "combined_df=combined_df.drop([\"participant_id\", \"bids_number\"], axis = 1)\n",
    "combined_df = combined_df[ ['bidsvalue'] + [ col for col in combined_df.columns if col != 'Mid' ] ]\n",
    "combined_df"
   ]
  },
  {
   "cell_type": "code",
   "execution_count": 6,
   "metadata": {},
   "outputs": [
    {
     "data": {
      "text/html": [
       "<div>\n",
       "<style scoped>\n",
       "    .dataframe tbody tr th:only-of-type {\n",
       "        vertical-align: middle;\n",
       "    }\n",
       "\n",
       "    .dataframe tbody tr th {\n",
       "        vertical-align: top;\n",
       "    }\n",
       "\n",
       "    .dataframe thead th {\n",
       "        text-align: right;\n",
       "    }\n",
       "</style>\n",
       "<table border=\"1\" class=\"dataframe\">\n",
       "  <thead>\n",
       "    <tr style=\"text-align: right;\">\n",
       "      <th></th>\n",
       "      <th>average_mfccs_3_neg</th>\n",
       "      <th>average_mfccs_4_neg</th>\n",
       "      <th>alpha_ratio_mean_neg</th>\n",
       "      <th>alpha_ratio_sd_neg</th>\n",
       "      <th>apq11_shimmer_neg</th>\n",
       "      <th>apq3_shimmer_neg</th>\n",
       "      <th>apq5_shimmer_neg</th>\n",
       "      <th>dda_shimmer_neg</th>\n",
       "      <th>ddp_jitter_neg</th>\n",
       "      <th>duration_neg</th>\n",
       "      <th>...</th>\n",
       "      <th>proportion_verb_phrase_with_objects_pos</th>\n",
       "      <th>proportion_verb_phrase_with_subjects_pos</th>\n",
       "      <th>type_token_ratio_pos</th>\n",
       "      <th>verb_phrase_with_aux_and_vp_rate_pos</th>\n",
       "      <th>verb_phrase_with_aux_rate_pos</th>\n",
       "      <th>verb_rate_pos</th>\n",
       "      <th>word_count_pos</th>\n",
       "      <th>word_frequency_mean_pos</th>\n",
       "      <th>word_frequency_sd_pos</th>\n",
       "      <th>word_frequency_range_pos</th>\n",
       "    </tr>\n",
       "  </thead>\n",
       "  <tbody>\n",
       "    <tr>\n",
       "      <th>0</th>\n",
       "      <td>19.860287</td>\n",
       "      <td>8.051362</td>\n",
       "      <td>7.284629</td>\n",
       "      <td>6.096077</td>\n",
       "      <td>11.421412</td>\n",
       "      <td>5.298905</td>\n",
       "      <td>7.391673</td>\n",
       "      <td>15.896714</td>\n",
       "      <td>4.359517</td>\n",
       "      <td>12.631687</td>\n",
       "      <td>...</td>\n",
       "      <td>0.111111</td>\n",
       "      <td>0.777778</td>\n",
       "      <td>0.864865</td>\n",
       "      <td>0.333333</td>\n",
       "      <td>1.000000</td>\n",
       "      <td>0.081081</td>\n",
       "      <td>32</td>\n",
       "      <td>4.750000</td>\n",
       "      <td>1.040954</td>\n",
       "      <td>3.76</td>\n",
       "    </tr>\n",
       "    <tr>\n",
       "      <th>1</th>\n",
       "      <td>19.888418</td>\n",
       "      <td>9.289201</td>\n",
       "      <td>10.718941</td>\n",
       "      <td>7.867776</td>\n",
       "      <td>18.531850</td>\n",
       "      <td>8.018380</td>\n",
       "      <td>10.886191</td>\n",
       "      <td>24.055140</td>\n",
       "      <td>3.586954</td>\n",
       "      <td>73.189312</td>\n",
       "      <td>...</td>\n",
       "      <td>0.242424</td>\n",
       "      <td>0.727273</td>\n",
       "      <td>0.479592</td>\n",
       "      <td>0.000000</td>\n",
       "      <td>0.526316</td>\n",
       "      <td>0.095960</td>\n",
       "      <td>161</td>\n",
       "      <td>4.747556</td>\n",
       "      <td>1.230688</td>\n",
       "      <td>5.05</td>\n",
       "    </tr>\n",
       "    <tr>\n",
       "      <th>2</th>\n",
       "      <td>12.432057</td>\n",
       "      <td>1.496185</td>\n",
       "      <td>7.619763</td>\n",
       "      <td>7.617054</td>\n",
       "      <td>9.548101</td>\n",
       "      <td>5.130727</td>\n",
       "      <td>6.164726</td>\n",
       "      <td>15.392180</td>\n",
       "      <td>2.567579</td>\n",
       "      <td>48.474438</td>\n",
       "      <td>...</td>\n",
       "      <td>0.166667</td>\n",
       "      <td>0.750000</td>\n",
       "      <td>0.666667</td>\n",
       "      <td>0.000000</td>\n",
       "      <td>0.250000</td>\n",
       "      <td>0.080808</td>\n",
       "      <td>80</td>\n",
       "      <td>5.047419</td>\n",
       "      <td>0.938499</td>\n",
       "      <td>4.16</td>\n",
       "    </tr>\n",
       "    <tr>\n",
       "      <th>3</th>\n",
       "      <td>25.960098</td>\n",
       "      <td>13.172879</td>\n",
       "      <td>7.972128</td>\n",
       "      <td>7.190350</td>\n",
       "      <td>15.057472</td>\n",
       "      <td>6.300391</td>\n",
       "      <td>8.975165</td>\n",
       "      <td>18.901173</td>\n",
       "      <td>3.094334</td>\n",
       "      <td>84.543875</td>\n",
       "      <td>...</td>\n",
       "      <td>0.440000</td>\n",
       "      <td>0.720000</td>\n",
       "      <td>0.620482</td>\n",
       "      <td>0.000000</td>\n",
       "      <td>0.400000</td>\n",
       "      <td>0.088235</td>\n",
       "      <td>145</td>\n",
       "      <td>4.746415</td>\n",
       "      <td>0.947519</td>\n",
       "      <td>4.01</td>\n",
       "    </tr>\n",
       "    <tr>\n",
       "      <th>4</th>\n",
       "      <td>8.607089</td>\n",
       "      <td>5.815983</td>\n",
       "      <td>12.940309</td>\n",
       "      <td>12.775001</td>\n",
       "      <td>10.540608</td>\n",
       "      <td>4.699568</td>\n",
       "      <td>5.837134</td>\n",
       "      <td>14.098704</td>\n",
       "      <td>3.099075</td>\n",
       "      <td>7.498625</td>\n",
       "      <td>...</td>\n",
       "      <td>1.000000</td>\n",
       "      <td>1.000000</td>\n",
       "      <td>0.809524</td>\n",
       "      <td>0.000000</td>\n",
       "      <td>0.000000</td>\n",
       "      <td>0.095238</td>\n",
       "      <td>19</td>\n",
       "      <td>5.073333</td>\n",
       "      <td>0.390384</td>\n",
       "      <td>1.30</td>\n",
       "    </tr>\n",
       "    <tr>\n",
       "      <th>...</th>\n",
       "      <td>...</td>\n",
       "      <td>...</td>\n",
       "      <td>...</td>\n",
       "      <td>...</td>\n",
       "      <td>...</td>\n",
       "      <td>...</td>\n",
       "      <td>...</td>\n",
       "      <td>...</td>\n",
       "      <td>...</td>\n",
       "      <td>...</td>\n",
       "      <td>...</td>\n",
       "      <td>...</td>\n",
       "      <td>...</td>\n",
       "      <td>...</td>\n",
       "      <td>...</td>\n",
       "      <td>...</td>\n",
       "      <td>...</td>\n",
       "      <td>...</td>\n",
       "      <td>...</td>\n",
       "      <td>...</td>\n",
       "      <td>...</td>\n",
       "    </tr>\n",
       "    <tr>\n",
       "      <th>89</th>\n",
       "      <td>22.608526</td>\n",
       "      <td>9.605459</td>\n",
       "      <td>6.579741</td>\n",
       "      <td>4.924329</td>\n",
       "      <td>15.718046</td>\n",
       "      <td>5.776804</td>\n",
       "      <td>7.754120</td>\n",
       "      <td>17.330411</td>\n",
       "      <td>3.192066</td>\n",
       "      <td>20.247812</td>\n",
       "      <td>...</td>\n",
       "      <td>0.300000</td>\n",
       "      <td>0.600000</td>\n",
       "      <td>0.780000</td>\n",
       "      <td>0.000000</td>\n",
       "      <td>1.250000</td>\n",
       "      <td>0.078431</td>\n",
       "      <td>43</td>\n",
       "      <td>5.030000</td>\n",
       "      <td>0.569503</td>\n",
       "      <td>2.15</td>\n",
       "    </tr>\n",
       "    <tr>\n",
       "      <th>90</th>\n",
       "      <td>31.282303</td>\n",
       "      <td>3.232759</td>\n",
       "      <td>9.392916</td>\n",
       "      <td>7.128253</td>\n",
       "      <td>12.255668</td>\n",
       "      <td>6.100525</td>\n",
       "      <td>8.225302</td>\n",
       "      <td>18.301576</td>\n",
       "      <td>3.392220</td>\n",
       "      <td>10.727625</td>\n",
       "      <td>...</td>\n",
       "      <td>0.333333</td>\n",
       "      <td>0.666667</td>\n",
       "      <td>0.851852</td>\n",
       "      <td>0.000000</td>\n",
       "      <td>1.000000</td>\n",
       "      <td>0.037037</td>\n",
       "      <td>24</td>\n",
       "      <td>4.178889</td>\n",
       "      <td>0.892119</td>\n",
       "      <td>3.04</td>\n",
       "    </tr>\n",
       "    <tr>\n",
       "      <th>91</th>\n",
       "      <td>29.810190</td>\n",
       "      <td>12.334111</td>\n",
       "      <td>10.178854</td>\n",
       "      <td>6.710355</td>\n",
       "      <td>19.113003</td>\n",
       "      <td>9.024963</td>\n",
       "      <td>12.607795</td>\n",
       "      <td>27.074890</td>\n",
       "      <td>5.273210</td>\n",
       "      <td>17.670375</td>\n",
       "      <td>...</td>\n",
       "      <td>0.333333</td>\n",
       "      <td>0.500000</td>\n",
       "      <td>0.846154</td>\n",
       "      <td>0.250000</td>\n",
       "      <td>0.500000</td>\n",
       "      <td>0.153846</td>\n",
       "      <td>23</td>\n",
       "      <td>5.073000</td>\n",
       "      <td>0.338941</td>\n",
       "      <td>1.00</td>\n",
       "    </tr>\n",
       "    <tr>\n",
       "      <th>92</th>\n",
       "      <td>13.465354</td>\n",
       "      <td>17.949970</td>\n",
       "      <td>8.608132</td>\n",
       "      <td>6.375060</td>\n",
       "      <td>14.756413</td>\n",
       "      <td>7.586481</td>\n",
       "      <td>9.047230</td>\n",
       "      <td>22.759444</td>\n",
       "      <td>4.773994</td>\n",
       "      <td>60.697000</td>\n",
       "      <td>...</td>\n",
       "      <td>0.142857</td>\n",
       "      <td>1.000000</td>\n",
       "      <td>0.661290</td>\n",
       "      <td>0.000000</td>\n",
       "      <td>0.000000</td>\n",
       "      <td>0.048387</td>\n",
       "      <td>50</td>\n",
       "      <td>4.751176</td>\n",
       "      <td>1.138450</td>\n",
       "      <td>3.93</td>\n",
       "    </tr>\n",
       "    <tr>\n",
       "      <th>93</th>\n",
       "      <td>14.535485</td>\n",
       "      <td>1.428462</td>\n",
       "      <td>12.015278</td>\n",
       "      <td>12.226860</td>\n",
       "      <td>10.640359</td>\n",
       "      <td>4.393922</td>\n",
       "      <td>5.866117</td>\n",
       "      <td>13.181765</td>\n",
       "      <td>2.645224</td>\n",
       "      <td>98.754500</td>\n",
       "      <td>...</td>\n",
       "      <td>0.291667</td>\n",
       "      <td>0.625000</td>\n",
       "      <td>0.588608</td>\n",
       "      <td>0.000000</td>\n",
       "      <td>1.111111</td>\n",
       "      <td>0.056604</td>\n",
       "      <td>137</td>\n",
       "      <td>4.737925</td>\n",
       "      <td>1.048381</td>\n",
       "      <td>4.83</td>\n",
       "    </tr>\n",
       "  </tbody>\n",
       "</table>\n",
       "<p>94 rows × 236 columns</p>\n",
       "</div>"
      ],
      "text/plain": [
       "    average_mfccs_3_neg  average_mfccs_4_neg  alpha_ratio_mean_neg  \\\n",
       "0             19.860287             8.051362              7.284629   \n",
       "1             19.888418             9.289201             10.718941   \n",
       "2             12.432057             1.496185              7.619763   \n",
       "3             25.960098            13.172879              7.972128   \n",
       "4              8.607089             5.815983             12.940309   \n",
       "..                  ...                  ...                   ...   \n",
       "89            22.608526             9.605459              6.579741   \n",
       "90            31.282303             3.232759              9.392916   \n",
       "91            29.810190            12.334111             10.178854   \n",
       "92            13.465354            17.949970              8.608132   \n",
       "93            14.535485             1.428462             12.015278   \n",
       "\n",
       "    alpha_ratio_sd_neg  apq11_shimmer_neg  apq3_shimmer_neg  apq5_shimmer_neg  \\\n",
       "0             6.096077          11.421412          5.298905          7.391673   \n",
       "1             7.867776          18.531850          8.018380         10.886191   \n",
       "2             7.617054           9.548101          5.130727          6.164726   \n",
       "3             7.190350          15.057472          6.300391          8.975165   \n",
       "4            12.775001          10.540608          4.699568          5.837134   \n",
       "..                 ...                ...               ...               ...   \n",
       "89            4.924329          15.718046          5.776804          7.754120   \n",
       "90            7.128253          12.255668          6.100525          8.225302   \n",
       "91            6.710355          19.113003          9.024963         12.607795   \n",
       "92            6.375060          14.756413          7.586481          9.047230   \n",
       "93           12.226860          10.640359          4.393922          5.866117   \n",
       "\n",
       "    dda_shimmer_neg  ddp_jitter_neg  duration_neg  ...  \\\n",
       "0         15.896714        4.359517     12.631687  ...   \n",
       "1         24.055140        3.586954     73.189312  ...   \n",
       "2         15.392180        2.567579     48.474438  ...   \n",
       "3         18.901173        3.094334     84.543875  ...   \n",
       "4         14.098704        3.099075      7.498625  ...   \n",
       "..              ...             ...           ...  ...   \n",
       "89        17.330411        3.192066     20.247812  ...   \n",
       "90        18.301576        3.392220     10.727625  ...   \n",
       "91        27.074890        5.273210     17.670375  ...   \n",
       "92        22.759444        4.773994     60.697000  ...   \n",
       "93        13.181765        2.645224     98.754500  ...   \n",
       "\n",
       "    proportion_verb_phrase_with_objects_pos  \\\n",
       "0                                  0.111111   \n",
       "1                                  0.242424   \n",
       "2                                  0.166667   \n",
       "3                                  0.440000   \n",
       "4                                  1.000000   \n",
       "..                                      ...   \n",
       "89                                 0.300000   \n",
       "90                                 0.333333   \n",
       "91                                 0.333333   \n",
       "92                                 0.142857   \n",
       "93                                 0.291667   \n",
       "\n",
       "    proportion_verb_phrase_with_subjects_pos  type_token_ratio_pos  \\\n",
       "0                                   0.777778              0.864865   \n",
       "1                                   0.727273              0.479592   \n",
       "2                                   0.750000              0.666667   \n",
       "3                                   0.720000              0.620482   \n",
       "4                                   1.000000              0.809524   \n",
       "..                                       ...                   ...   \n",
       "89                                  0.600000              0.780000   \n",
       "90                                  0.666667              0.851852   \n",
       "91                                  0.500000              0.846154   \n",
       "92                                  1.000000              0.661290   \n",
       "93                                  0.625000              0.588608   \n",
       "\n",
       "    verb_phrase_with_aux_and_vp_rate_pos  verb_phrase_with_aux_rate_pos  \\\n",
       "0                               0.333333                       1.000000   \n",
       "1                               0.000000                       0.526316   \n",
       "2                               0.000000                       0.250000   \n",
       "3                               0.000000                       0.400000   \n",
       "4                               0.000000                       0.000000   \n",
       "..                                   ...                            ...   \n",
       "89                              0.000000                       1.250000   \n",
       "90                              0.000000                       1.000000   \n",
       "91                              0.250000                       0.500000   \n",
       "92                              0.000000                       0.000000   \n",
       "93                              0.000000                       1.111111   \n",
       "\n",
       "    verb_rate_pos  word_count_pos  word_frequency_mean_pos  \\\n",
       "0        0.081081              32                 4.750000   \n",
       "1        0.095960             161                 4.747556   \n",
       "2        0.080808              80                 5.047419   \n",
       "3        0.088235             145                 4.746415   \n",
       "4        0.095238              19                 5.073333   \n",
       "..            ...             ...                      ...   \n",
       "89       0.078431              43                 5.030000   \n",
       "90       0.037037              24                 4.178889   \n",
       "91       0.153846              23                 5.073000   \n",
       "92       0.048387              50                 4.751176   \n",
       "93       0.056604             137                 4.737925   \n",
       "\n",
       "    word_frequency_sd_pos  word_frequency_range_pos  \n",
       "0                1.040954                      3.76  \n",
       "1                1.230688                      5.05  \n",
       "2                0.938499                      4.16  \n",
       "3                0.947519                      4.01  \n",
       "4                0.390384                      1.30  \n",
       "..                    ...                       ...  \n",
       "89               0.569503                      2.15  \n",
       "90               0.892119                      3.04  \n",
       "91               0.338941                      1.00  \n",
       "92               1.138450                      3.93  \n",
       "93               1.048381                      4.83  \n",
       "\n",
       "[94 rows x 236 columns]"
      ]
     },
     "execution_count": 6,
     "metadata": {},
     "output_type": "execute_result"
    }
   ],
   "source": [
    "# Select only the speech features columns for factor analysis\n",
    "speech_features = combined_df.iloc[:, 3:239]\n",
    "# Convert all columns to numeric, forcing errors to NaN\n",
    "speech_features = speech_features.apply(pd.to_numeric, errors='coerce')\n",
    "speech_features"
   ]
  },
  {
   "cell_type": "code",
   "execution_count": 7,
   "metadata": {},
   "outputs": [
    {
     "name": "stdout",
     "output_type": "stream",
     "text": [
      "Factor Loadings:\n",
      " [[-0.37238388 -0.42558584  0.37918665  0.04887636  0.14112347]\n",
      " [-0.41018604 -0.50985239  0.43439308  0.08538074 -0.00563014]\n",
      " [ 0.17067386 -0.30603181  0.66837664 -0.0195191   0.07234379]\n",
      " ...\n",
      " [ 0.05294756 -0.11034674  0.0291809   0.05565769 -0.11599882]\n",
      " [-0.05247302 -0.073134   -0.00989043  0.19300059 -0.00950985]\n",
      " [ 0.01153127 -0.03709554  0.01056737  0.53322971  0.11406966]]\n"
     ]
    },
    {
     "data": {
      "image/png": "[encoded data removed]",
      "text/plain": [
       "<Figure size 432x288 with 1 Axes>"
      ]
     },
     "metadata": {
      "needs_background": "light"
     },
     "output_type": "display_data"
    },
    {
     "name": "stdout",
     "output_type": "stream",
     "text": [
      "Factor Variance:\n",
      " (array([33.28981001, 30.83033658, 18.25290893, 17.68770213, 17.24962539]), array([0.14105852, 0.13063702, 0.07734283, 0.07494789, 0.07309163]), array([0.14105852, 0.27169554, 0.34903837, 0.42398626, 0.49707789]))\n"
     ]
    }
   ],
   "source": [
    "# Perform factor analysis\n",
    "fa = FactorAnalyzer(n_factors=5, rotation='varimax')\n",
    "fa.fit(speech_features)\n",
    "\n",
    "# Get factor loadings\n",
    "loadings = fa.loadings_\n",
    "\n",
    "# Print the factor loadings\n",
    "print(\"Factor Loadings:\\n\", loadings)\n",
    "\n",
    "# Plot the scree plot to determine the number of factors\n",
    "ev, v = fa.get_eigenvalues()\n",
    "plt.scatter(range(1, speech_features.shape[1] + 1), ev)\n",
    "plt.plot(range(1, speech_features.shape[1] + 1), ev)\n",
    "plt.title('Scree Plot')\n",
    "plt.xlabel('Factors')\n",
    "plt.ylabel('Eigenvalue')\n",
    "plt.grid()\n",
    "plt.show()\n",
    "\n",
    "# If needed, extract the factor variance\n",
    "variance = fa.get_factor_variance()\n",
    "print(\"Factor Variance:\\n\", variance)\n"
   ]
  },
  {
   "cell_type": "code",
   "execution_count": 20,
   "metadata": {},
   "outputs": [],
   "source": [
    "# Create a DataFrame for factor loadings\n",
    "loadings_df = pd.DataFrame(loadings, index=speech_features.columns, columns=[f'Factor{i+1}' for i in range(loadings.shape[1])])\n",
    "# Assign each speech feature to the factor with the highest loading\n",
    "loadings_df['Assigned_Factor'] = loadings_df.idxmax(axis=1) #assign each speech feature to the factor with the highest loading.\n",
    "# Export the DataFrame to a CSV file\n",
    "loadings_df.to_csv('W:/Fmri_Forschung/Allerlei/JuliaS/GitHub/SubliminalVideoPriming/data/speech/factor_loadings.csv',sep = \";\")"
   ]
  },
  {
   "cell_type": "code",
   "execution_count": 15,
   "metadata": {},
   "outputs": [
    {
     "name": "stdout",
     "output_type": "stream",
     "text": [
      "Factor Variance:\n",
      " (array([33.28981001, 30.83033658, 18.25290893, 17.68770213, 17.24962539]), array([0.14105852, 0.13063702, 0.07734283, 0.07494789, 0.07309163]), array([0.14105852, 0.27169554, 0.34903837, 0.42398626, 0.49707789]))\n"
     ]
    }
   ],
   "source": [
    "# If needed, extract the factor variance\n",
    "variance = fa.get_factor_variance()\n",
    "print(\"Factor Variance:\\n\", variance)"
   ]
  },
  {
   "cell_type": "code",
   "execution_count": 24,
   "metadata": {},
   "outputs": [
    {
     "data": {
      "text/html": [
       "<div>\n",
       "<style scoped>\n",
       "    .dataframe tbody tr th:only-of-type {\n",
       "        vertical-align: middle;\n",
       "    }\n",
       "\n",
       "    .dataframe tbody tr th {\n",
       "        vertical-align: top;\n",
       "    }\n",
       "\n",
       "    .dataframe thead th {\n",
       "        text-align: right;\n",
       "    }\n",
       "</style>\n",
       "<table border=\"1\" class=\"dataframe\">\n",
       "  <thead>\n",
       "    <tr style=\"text-align: right;\">\n",
       "      <th></th>\n",
       "      <th>Speech_Feature</th>\n",
       "      <th>Assigned_Factor</th>\n",
       "    </tr>\n",
       "  </thead>\n",
       "  <tbody>\n",
       "    <tr>\n",
       "      <th>0</th>\n",
       "      <td>average_mfccs_3_neg</td>\n",
       "      <td>Factor3</td>\n",
       "    </tr>\n",
       "    <tr>\n",
       "      <th>1</th>\n",
       "      <td>average_mfccs_4_neg</td>\n",
       "      <td>Factor3</td>\n",
       "    </tr>\n",
       "    <tr>\n",
       "      <th>2</th>\n",
       "      <td>alpha_ratio_mean_neg</td>\n",
       "      <td>Factor3</td>\n",
       "    </tr>\n",
       "    <tr>\n",
       "      <th>3</th>\n",
       "      <td>alpha_ratio_sd_neg</td>\n",
       "      <td>Factor3</td>\n",
       "    </tr>\n",
       "    <tr>\n",
       "      <th>4</th>\n",
       "      <td>apq11_shimmer_neg</td>\n",
       "      <td>Factor5</td>\n",
       "    </tr>\n",
       "    <tr>\n",
       "      <th>...</th>\n",
       "      <td>...</td>\n",
       "      <td>...</td>\n",
       "    </tr>\n",
       "    <tr>\n",
       "      <th>231</th>\n",
       "      <td>verb_rate_pos</td>\n",
       "      <td>Factor4</td>\n",
       "    </tr>\n",
       "    <tr>\n",
       "      <th>232</th>\n",
       "      <td>word_count_pos</td>\n",
       "      <td>Factor4</td>\n",
       "    </tr>\n",
       "    <tr>\n",
       "      <th>233</th>\n",
       "      <td>word_frequency_mean_pos</td>\n",
       "      <td>Factor4</td>\n",
       "    </tr>\n",
       "    <tr>\n",
       "      <th>234</th>\n",
       "      <td>word_frequency_sd_pos</td>\n",
       "      <td>Factor4</td>\n",
       "    </tr>\n",
       "    <tr>\n",
       "      <th>235</th>\n",
       "      <td>word_frequency_range_pos</td>\n",
       "      <td>Factor4</td>\n",
       "    </tr>\n",
       "  </tbody>\n",
       "</table>\n",
       "<p>236 rows × 2 columns</p>\n",
       "</div>"
      ],
      "text/plain": [
       "               Speech_Feature Assigned_Factor\n",
       "0         average_mfccs_3_neg         Factor3\n",
       "1         average_mfccs_4_neg         Factor3\n",
       "2        alpha_ratio_mean_neg         Factor3\n",
       "3          alpha_ratio_sd_neg         Factor3\n",
       "4           apq11_shimmer_neg         Factor5\n",
       "..                        ...             ...\n",
       "231             verb_rate_pos         Factor4\n",
       "232            word_count_pos         Factor4\n",
       "233   word_frequency_mean_pos         Factor4\n",
       "234     word_frequency_sd_pos         Factor4\n",
       "235  word_frequency_range_pos         Factor4\n",
       "\n",
       "[236 rows x 2 columns]"
      ]
     },
     "execution_count": 24,
     "metadata": {},
     "output_type": "execute_result"
    }
   ],
   "source": [
    "# Create a DataFrame to list each factor and its features\n",
    "factor_features = loadings_df.reset_index().rename(columns={'index': 'Speech_Feature'})\n",
    "factor_features = factor_features[['Speech_Feature', 'Assigned_Factor']]\n",
    "\n",
    "# Export the DataFrame to a CSV file\n",
    "factor_features.to_csv('W:/Fmri_Forschung/Allerlei/JuliaS/GitHub/SubliminalVideoPriming/data/speech/factor_features.csv',sep = \";\")\n",
    "factor_features\n"
   ]
  },
  {
   "cell_type": "code",
   "execution_count": 30,
   "metadata": {},
   "outputs": [],
   "source": [
    "# Create a dictionary to hold features and their loadings for each factor\n",
    "factor_dict = {f'Factor{i+1}': [] for i in range(loadings.shape[1])}\n",
    "\n",
    "# Populate the dictionary with features and their loadings assigned to each factor\n",
    "for feature, factor in loadings_df['Assigned_Factor'].items():\n",
    "    loading_value = loadings_df.loc[feature, factor]\n",
    "    factor_dict[factor].append(f\"{feature} ({loading_value:.2f})\")\n",
    "\n",
    "# Determine the maximum number of features in any factor to properly shape the DataFrame\n",
    "max_len = max(len(features) for features in factor_dict.values())\n",
    "\n",
    "# Create a DataFrame from the dictionary, filling empty spaces with NaN\n",
    "factor_features_df = pd.DataFrame({k: pd.Series(v) for k, v in factor_dict.items()}).reindex(range(max_len))\n",
    "\n",
    "# Export the DataFrame to a CSV file\n",
    "factor_features_df.to_csv('W:/Fmri_Forschung/Allerlei/JuliaS/GitHub/SubliminalVideoPriming/data/speech/factor_features_with_loadings.csv',sep =\";\", index = False)"
   ]
  },
  {
   "cell_type": "code",
   "execution_count": null,
   "metadata": {},
   "outputs": [],
   "source": []
  },
  {
   "cell_type": "code",
   "execution_count": 8,
   "metadata": {},
   "outputs": [],
   "source": [
    "#pip install plotly"
   ]
  },
  {
   "cell_type": "code",
   "execution_count": 12,
   "metadata": {},
   "outputs": [
    {
     "data": {
      "application/vnd.plotly.v1+json": {
       "config": {
        "plotlyServerURL": "https://plot.ly"
       },
       "data": [
        {
         "hovertemplate": "Factors=%{x}<br>Eigenvalue=%{y}<extra></extra>",
         "legendgroup": "",
         "marker": {
          "color": "#636efa",
          "symbol": "circle"
         },
         "mode": "markers",
         "name": "",
         "orientation": "v",
         "showlegend": false,
         "type": "scatter",
         "x": [
          1,
          2,
          3,
          4,
          5,
          6,
          7,
          8,
          9,
          10,
          11,
          12,
          13,
          14,
          15,
          16,
          17,
          18,
          19,
          20,
          21,
          22,
          23,
          24,
          25,
          26,
          27,
          28,
          29,
          30,
          31,
          32,
          33,
          34,
          35,
          36,
          37,
          38,
          39,
          40,
          41,
          42,
          43,
          44,
          45,
          46,
          47,
          48,
          49,
          50,
          51,
          52,
          53,
          54,
          55,
          56,
          57,
          58,
          59,
          60,
          61,
          62,
          63,
          64,
          65,
          66,
          67,
          68,
          69,
          70,
          71,
          72,
          73,
          74,
          75,
          76,
          77,
          78,
          79,
          80,
          81,
          82,
          83,
          84,
          85,
          86,
          87,
          88,
          89,
          90,
          91,
          92,
          93,
          94,
          95,
          96,
          97,
          98,
          99,
          100,
          101,
          102,
          103,
          104,
          105,
          106,
          107,
          108,
          109,
          110,
          111,
          112,
          113,
          114,
          115,
          116,
          117,
          118,
          119,
          120,
          121,
          122,
          123,
          124,
          125,
          126,
          127,
          128,
          129,
          130,
          131,
          132,
          133,
          134,
          135,
          136,
          137,
          138,
          139,
          140,
          141,
          142,
          143,
          144,
          145,
          146,
          147,
          148,
          149,
          150,
          151,
          152,
          153,
          154,
          155,
          156,
          157,
          158,
          159,
          160,
          161,
          162,
          163,
          164,
          165,
          166,
          167,
          168,
          169,
          170,
          171,
          172,
          173,
          174,
          175,
          176,
          177,
          178,
          179,
          180,
          181,
          182,
          183,
          184,
          185,
          186,
          187,
          188,
          189,
          190,
          191,
          192,
          193,
          194,
          195,
          196,
          197,
          198,
          199,
          200,
          201,
          202,
          203,
          204,
          205,
          206,
          207,
          208,
          209,
          210,
          211,
          212,
          213,
          214,
          215,
          216,
          217,
          218,
          219,
          220,
          221,
          222,
          223,
          224,
          225,
          226,
          227,
          228,
          229,
          230,
          231,
          232,
          233,
          234,
          235,
          236
         ],
         "xaxis": "x",
         "y": [
          45.22115277521178,
          22.832774126944535,
          21.473508337896444,
          18.004399350158476,
          11.769276968152813,
          8.454568445585943,
          6.406669244241389,
          5.826093879893146,
          5.138111393335548,
          4.8142931480551745,
          4.419668563212488,
          4.135929123587572,
          3.947184586851559,
          3.6537074047984874,
          3.560287180052366,
          3.3300030970467684,
          2.8434606492388954,
          2.8369489231575518,
          2.7714470321757783,
          2.6916853644414713,
          2.533512912524535,
          2.2333536936775737,
          2.1596018702015094,
          2.05853131121022,
          2.0167996558307655,
          1.8879150466179155,
          1.8369987659849218,
          1.7676464327487516,
          1.6482964807574323,
          1.6052878062411533,
          1.5522858616318467,
          1.471066620284442,
          1.4249077437885622,
          1.3587253481858157,
          1.2772017742500377,
          1.2273470465541005,
          1.205250215028528,
          1.0982478699057154,
          1.0597103410474455,
          1.0276371907706363,
          0.9936289199255008,
          0.988157277076346,
          0.976646059738745,
          0.9144846924229941,
          0.8714735688918871,
          0.8136570505742221,
          0.787911926614196,
          0.7330917721056668,
          0.7260785054870135,
          0.6877757792630911,
          0.6539591793665587,
          0.6283569070053399,
          0.5876992363393797,
          0.5676601882137201,
          0.5193631722866605,
          0.4852229848216134,
          0.45332050498237153,
          0.44653745541096457,
          0.42948966362588104,
          0.41161420545238114,
          0.3952217139633686,
          0.39077702736368786,
          0.35719733647170093,
          0.3389462945303804,
          0.3034696282202434,
          0.2998621945083217,
          0.28012147521516034,
          0.2697026442465306,
          0.24191032759239034,
          0.22690400233327776,
          0.21500855311505618,
          0.20938506834479473,
          0.19038561911742738,
          0.18217448066942096,
          0.17136440518042254,
          0.16474435839156565,
          0.16011109316953703,
          0.1448323086082501,
          0.1323618432003818,
          0.11749899024804576,
          0.11332942873604915,
          0.11040685631624347,
          0.09606504377499264,
          0.08877850066578638,
          0.08119830381864926,
          0.07532684744960756,
          0.07166432104718648,
          0.06628545326309354,
          0.059595671241393394,
          0.0554662478841097,
          0.051827532142089766,
          0.046706782977926076,
          0.03374701530829204,
          5.580191354788449e-15,
          4.2112767865265325e-15,
          3.18271131735751e-15,
          2.8484938340243873e-15,
          2.719588420074018e-15,
          2.5270536148572324e-15,
          2.455124832509287e-15,
          2.2322847455556898e-15,
          2.0745111343705123e-15,
          2.0653974571454402e-15,
          2.0643461604821482e-15,
          2.0468267618364216e-15,
          2.038989835227091e-15,
          1.8875223034044858e-15,
          1.8736563769089014e-15,
          1.7576916549158073e-15,
          1.739830542296369e-15,
          1.715141072445301e-15,
          1.550186504555651e-15,
          1.5444322879783967e-15,
          1.499052798899305e-15,
          1.489386512068328e-15,
          1.4562248130107483e-15,
          1.4022879740221122e-15,
          1.358953353548354e-15,
          1.3265187430442613e-15,
          1.3226459655942533e-15,
          1.2590437089841562e-15,
          1.2340792361755677e-15,
          1.134488429759078e-15,
          1.0633570518062622e-15,
          1.0108102088811685e-15,
          1.0022222382162172e-15,
          9.745681888887519e-16,
          9.30302591659614e-16,
          9.036048521557747e-16,
          8.905205931747062e-16,
          8.060064902158585e-16,
          7.784366135385652e-16,
          7.36550229022399e-16,
          6.942575772968898e-16,
          6.540845841020156e-16,
          6.431141938953877e-16,
          6.41319204759936e-16,
          5.798963571732864e-16,
          5.784278544204368e-16,
          5.520340364982389e-16,
          5.339662876519499e-16,
          5.324354297221929e-16,
          4.981570717976686e-16,
          4.203156037159288e-16,
          4.1316572764574343e-16,
          3.8609525177074056e-16,
          3.6228083748924057e-16,
          3.1658057869360907e-16,
          3.0029625853146823e-16,
          2.42463334027278e-16,
          2.1521181938393737e-16,
          2.1264319987704028e-16,
          1.9715086292323758e-16,
          1.7729675187379051e-16,
          1.3137234752494304e-16,
          1.2580733032261352e-16,
          1.2057674776667184e-16,
          1.0831872700626107e-16,
          8.659991381334995e-17,
          8.365619662693494e-17,
          6.863346994865606e-17,
          2.2869950120040055e-18,
          -1.3906944785136006e-16,
          -1.5475055751949122e-16,
          -1.571744688898194e-16,
          -1.8907846261120357e-16,
          -2.491968952746742e-16,
          -2.5329620301785365e-16,
          -2.554127300941497e-16,
          -2.761497589219667e-16,
          -2.7837631906294366e-16,
          -2.8667794051400005e-16,
          -3.074083021567549e-16,
          -3.086783785642584e-16,
          -4.089350672445464e-16,
          -4.574695791932281e-16,
          -4.939090587336933e-16,
          -4.939682691886241e-16,
          -5.072179060625918e-16,
          -5.113317102782622e-16,
          -5.452745662877272e-16,
          -5.806540116396439e-16,
          -5.986478767180269e-16,
          -6.58930371387206e-16,
          -7.403987636338518e-16,
          -7.469732055426529e-16,
          -7.774632051613004e-16,
          -8.046501110470261e-16,
          -8.078484238167608e-16,
          -8.231904172782123e-16,
          -8.560283879458733e-16,
          -9.249574923989497e-16,
          -9.274917875991143e-16,
          -9.754251540696794e-16,
          -9.996953079351772e-16,
          -1.0042374860042572e-15,
          -1.0362195763739643e-15,
          -1.0417374493341632e-15,
          -1.108086404032985e-15,
          -1.1188392483334471e-15,
          -1.1190764913856431e-15,
          -1.2190149547587507e-15,
          -1.2250916559283562e-15,
          -1.2929978959104613e-15,
          -1.355883794594383e-15,
          -1.3589877811355746e-15,
          -1.3968783086429737e-15,
          -1.4912635091926834e-15,
          -1.493694401331554e-15,
          -1.5196310280973446e-15,
          -1.5529488185041854e-15,
          -1.5794046054993128e-15,
          -1.6302976650699873e-15,
          -1.6971129625368983e-15,
          -1.7637741198964146e-15,
          -1.7668523113314168e-15,
          -1.826920164185679e-15,
          -1.8322810557198558e-15,
          -1.8475737613324625e-15,
          -1.892865969100536e-15,
          -2.076290239913304e-15,
          -2.139194397201311e-15,
          -2.1671221698047376e-15,
          -2.2235431981957825e-15,
          -2.3198661667971804e-15,
          -2.336823484111608e-15,
          -2.3851800246615813e-15,
          -2.457491440443385e-15,
          -2.5218203428016923e-15,
          -2.6425302656483446e-15,
          -3.0001279537330922e-15,
          -3.2310795078009332e-15,
          -3.3669014672903473e-15,
          -4.872095758499174e-15,
          -5.009246448712197e-15,
          -7.316687937668988e-15
         ],
         "yaxis": "y"
        },
        {
         "hovertemplate": "x=%{x}<br>y=%{y}<extra></extra>",
         "legendgroup": "",
         "line": {
          "color": "#636efa",
          "dash": "solid"
         },
         "mode": "lines",
         "name": "",
         "orientation": "v",
         "showlegend": false,
         "type": "scatter",
         "x": [
          1,
          2,
          3,
          4,
          5,
          6,
          7,
          8,
          9,
          10,
          11,
          12,
          13,
          14,
          15,
          16,
          17,
          18,
          19,
          20,
          21,
          22,
          23,
          24,
          25,
          26,
          27,
          28,
          29,
          30,
          31,
          32,
          33,
          34,
          35,
          36,
          37,
          38,
          39,
          40,
          41,
          42,
          43,
          44,
          45,
          46,
          47,
          48,
          49,
          50,
          51,
          52,
          53,
          54,
          55,
          56,
          57,
          58,
          59,
          60,
          61,
          62,
          63,
          64,
          65,
          66,
          67,
          68,
          69,
          70,
          71,
          72,
          73,
          74,
          75,
          76,
          77,
          78,
          79,
          80,
          81,
          82,
          83,
          84,
          85,
          86,
          87,
          88,
          89,
          90,
          91,
          92,
          93,
          94,
          95,
          96,
          97,
          98,
          99,
          100,
          101,
          102,
          103,
          104,
          105,
          106,
          107,
          108,
          109,
          110,
          111,
          112,
          113,
          114,
          115,
          116,
          117,
          118,
          119,
          120,
          121,
          122,
          123,
          124,
          125,
          126,
          127,
          128,
          129,
          130,
          131,
          132,
          133,
          134,
          135,
          136,
          137,
          138,
          139,
          140,
          141,
          142,
          143,
          144,
          145,
          146,
          147,
          148,
          149,
          150,
          151,
          152,
          153,
          154,
          155,
          156,
          157,
          158,
          159,
          160,
          161,
          162,
          163,
          164,
          165,
          166,
          167,
          168,
          169,
          170,
          171,
          172,
          173,
          174,
          175,
          176,
          177,
          178,
          179,
          180,
          181,
          182,
          183,
          184,
          185,
          186,
          187,
          188,
          189,
          190,
          191,
          192,
          193,
          194,
          195,
          196,
          197,
          198,
          199,
          200,
          201,
          202,
          203,
          204,
          205,
          206,
          207,
          208,
          209,
          210,
          211,
          212,
          213,
          214,
          215,
          216,
          217,
          218,
          219,
          220,
          221,
          222,
          223,
          224,
          225,
          226,
          227,
          228,
          229,
          230,
          231,
          232,
          233,
          234,
          235,
          236
         ],
         "xaxis": "x",
         "y": [
          45.22115277521178,
          22.832774126944535,
          21.473508337896444,
          18.004399350158476,
          11.769276968152813,
          8.454568445585943,
          6.406669244241389,
          5.826093879893146,
          5.138111393335548,
          4.8142931480551745,
          4.419668563212488,
          4.135929123587572,
          3.947184586851559,
          3.6537074047984874,
          3.560287180052366,
          3.3300030970467684,
          2.8434606492388954,
          2.8369489231575518,
          2.7714470321757783,
          2.6916853644414713,
          2.533512912524535,
          2.2333536936775737,
          2.1596018702015094,
          2.05853131121022,
          2.0167996558307655,
          1.8879150466179155,
          1.8369987659849218,
          1.7676464327487516,
          1.6482964807574323,
          1.6052878062411533,
          1.5522858616318467,
          1.471066620284442,
          1.4249077437885622,
          1.3587253481858157,
          1.2772017742500377,
          1.2273470465541005,
          1.205250215028528,
          1.0982478699057154,
          1.0597103410474455,
          1.0276371907706363,
          0.9936289199255008,
          0.988157277076346,
          0.976646059738745,
          0.9144846924229941,
          0.8714735688918871,
          0.8136570505742221,
          0.787911926614196,
          0.7330917721056668,
          0.7260785054870135,
          0.6877757792630911,
          0.6539591793665587,
          0.6283569070053399,
          0.5876992363393797,
          0.5676601882137201,
          0.5193631722866605,
          0.4852229848216134,
          0.45332050498237153,
          0.44653745541096457,
          0.42948966362588104,
          0.41161420545238114,
          0.3952217139633686,
          0.39077702736368786,
          0.35719733647170093,
          0.3389462945303804,
          0.3034696282202434,
          0.2998621945083217,
          0.28012147521516034,
          0.2697026442465306,
          0.24191032759239034,
          0.22690400233327776,
          0.21500855311505618,
          0.20938506834479473,
          0.19038561911742738,
          0.18217448066942096,
          0.17136440518042254,
          0.16474435839156565,
          0.16011109316953703,
          0.1448323086082501,
          0.1323618432003818,
          0.11749899024804576,
          0.11332942873604915,
          0.11040685631624347,
          0.09606504377499264,
          0.08877850066578638,
          0.08119830381864926,
          0.07532684744960756,
          0.07166432104718648,
          0.06628545326309354,
          0.059595671241393394,
          0.0554662478841097,
          0.051827532142089766,
          0.046706782977926076,
          0.03374701530829204,
          5.580191354788449e-15,
          4.2112767865265325e-15,
          3.18271131735751e-15,
          2.8484938340243873e-15,
          2.719588420074018e-15,
          2.5270536148572324e-15,
          2.455124832509287e-15,
          2.2322847455556898e-15,
          2.0745111343705123e-15,
          2.0653974571454402e-15,
          2.0643461604821482e-15,
          2.0468267618364216e-15,
          2.038989835227091e-15,
          1.8875223034044858e-15,
          1.8736563769089014e-15,
          1.7576916549158073e-15,
          1.739830542296369e-15,
          1.715141072445301e-15,
          1.550186504555651e-15,
          1.5444322879783967e-15,
          1.499052798899305e-15,
          1.489386512068328e-15,
          1.4562248130107483e-15,
          1.4022879740221122e-15,
          1.358953353548354e-15,
          1.3265187430442613e-15,
          1.3226459655942533e-15,
          1.2590437089841562e-15,
          1.2340792361755677e-15,
          1.134488429759078e-15,
          1.0633570518062622e-15,
          1.0108102088811685e-15,
          1.0022222382162172e-15,
          9.745681888887519e-16,
          9.30302591659614e-16,
          9.036048521557747e-16,
          8.905205931747062e-16,
          8.060064902158585e-16,
          7.784366135385652e-16,
          7.36550229022399e-16,
          6.942575772968898e-16,
          6.540845841020156e-16,
          6.431141938953877e-16,
          6.41319204759936e-16,
          5.798963571732864e-16,
          5.784278544204368e-16,
          5.520340364982389e-16,
          5.339662876519499e-16,
          5.324354297221929e-16,
          4.981570717976686e-16,
          4.203156037159288e-16,
          4.1316572764574343e-16,
          3.8609525177074056e-16,
          3.6228083748924057e-16,
          3.1658057869360907e-16,
          3.0029625853146823e-16,
          2.42463334027278e-16,
          2.1521181938393737e-16,
          2.1264319987704028e-16,
          1.9715086292323758e-16,
          1.7729675187379051e-16,
          1.3137234752494304e-16,
          1.2580733032261352e-16,
          1.2057674776667184e-16,
          1.0831872700626107e-16,
          8.659991381334995e-17,
          8.365619662693494e-17,
          6.863346994865606e-17,
          2.2869950120040055e-18,
          -1.3906944785136006e-16,
          -1.5475055751949122e-16,
          -1.571744688898194e-16,
          -1.8907846261120357e-16,
          -2.491968952746742e-16,
          -2.5329620301785365e-16,
          -2.554127300941497e-16,
          -2.761497589219667e-16,
          -2.7837631906294366e-16,
          -2.8667794051400005e-16,
          -3.074083021567549e-16,
          -3.086783785642584e-16,
          -4.089350672445464e-16,
          -4.574695791932281e-16,
          -4.939090587336933e-16,
          -4.939682691886241e-16,
          -5.072179060625918e-16,
          -5.113317102782622e-16,
          -5.452745662877272e-16,
          -5.806540116396439e-16,
          -5.986478767180269e-16,
          -6.58930371387206e-16,
          -7.403987636338518e-16,
          -7.469732055426529e-16,
          -7.774632051613004e-16,
          -8.046501110470261e-16,
          -8.078484238167608e-16,
          -8.231904172782123e-16,
          -8.560283879458733e-16,
          -9.249574923989497e-16,
          -9.274917875991143e-16,
          -9.754251540696794e-16,
          -9.996953079351772e-16,
          -1.0042374860042572e-15,
          -1.0362195763739643e-15,
          -1.0417374493341632e-15,
          -1.108086404032985e-15,
          -1.1188392483334471e-15,
          -1.1190764913856431e-15,
          -1.2190149547587507e-15,
          -1.2250916559283562e-15,
          -1.2929978959104613e-15,
          -1.355883794594383e-15,
          -1.3589877811355746e-15,
          -1.3968783086429737e-15,
          -1.4912635091926834e-15,
          -1.493694401331554e-15,
          -1.5196310280973446e-15,
          -1.5529488185041854e-15,
          -1.5794046054993128e-15,
          -1.6302976650699873e-15,
          -1.6971129625368983e-15,
          -1.7637741198964146e-15,
          -1.7668523113314168e-15,
          -1.826920164185679e-15,
          -1.8322810557198558e-15,
          -1.8475737613324625e-15,
          -1.892865969100536e-15,
          -2.076290239913304e-15,
          -2.139194397201311e-15,
          -2.1671221698047376e-15,
          -2.2235431981957825e-15,
          -2.3198661667971804e-15,
          -2.336823484111608e-15,
          -2.3851800246615813e-15,
          -2.457491440443385e-15,
          -2.5218203428016923e-15,
          -2.6425302656483446e-15,
          -3.0001279537330922e-15,
          -3.2310795078009332e-15,
          -3.3669014672903473e-15,
          -4.872095758499174e-15,
          -5.009246448712197e-15,
          -7.316687937668988e-15
         ],
         "yaxis": "y"
        }
       ],
       "layout": {
        "legend": {
         "tracegroupgap": 0
        },
        "template": {
         "data": {
          "bar": [
           {
            "error_x": {
             "color": "#2a3f5f"
            },
            "error_y": {
             "color": "#2a3f5f"
            },
            "marker": {
             "line": {
              "color": "#E5ECF6",
              "width": 0.5
             }
            },
            "type": "bar"
           }
          ],
          "barpolar": [
           {
            "marker": {
             "line": {
              "color": "#E5ECF6",
              "width": 0.5
             }
            },
            "type": "barpolar"
           }
          ],
          "carpet": [
           {
            "aaxis": {
             "endlinecolor": "#2a3f5f",
             "gridcolor": "white",
             "linecolor": "white",
             "minorgridcolor": "white",
             "startlinecolor": "#2a3f5f"
            },
            "baxis": {
             "endlinecolor": "#2a3f5f",
             "gridcolor": "white",
             "linecolor": "white",
             "minorgridcolor": "white",
             "startlinecolor": "#2a3f5f"
            },
            "type": "carpet"
           }
          ],
          "choropleth": [
           {
            "colorbar": {
             "outlinewidth": 0,
             "ticks": ""
            },
            "type": "choropleth"
           }
          ],
          "contour": [
           {
            "colorbar": {
             "outlinewidth": 0,
             "ticks": ""
            },
            "colorscale": [
             [
              0,
              "#0d0887"
             ],
             [
              0.1111111111111111,
              "#46039f"
             ],
             [
              0.2222222222222222,
              "#7201a8"
             ],
             [
              0.3333333333333333,
              "#9c179e"
             ],
             [
              0.4444444444444444,
              "#bd3786"
             ],
             [
              0.5555555555555556,
              "#d8576b"
             ],
             [
              0.6666666666666666,
              "#ed7953"
             ],
             [
              0.7777777777777778,
              "#fb9f3a"
             ],
             [
              0.8888888888888888,
              "#fdca26"
             ],
             [
              1,
              "#f0f921"
             ]
            ],
            "type": "contour"
           }
          ],
          "contourcarpet": [
           {
            "colorbar": {
             "outlinewidth": 0,
             "ticks": ""
            },
            "type": "contourcarpet"
           }
          ],
          "heatmap": [
           {
            "colorbar": {
             "outlinewidth": 0,
             "ticks": ""
            },
            "colorscale": [
             [
              0,
              "#0d0887"
             ],
             [
              0.1111111111111111,
              "#46039f"
             ],
             [
              0.2222222222222222,
              "#7201a8"
             ],
             [
              0.3333333333333333,
              "#9c179e"
             ],
             [
              0.4444444444444444,
              "#bd3786"
             ],
             [
              0.5555555555555556,
              "#d8576b"
             ],
             [
              0.6666666666666666,
              "#ed7953"
             ],
             [
              0.7777777777777778,
              "#fb9f3a"
             ],
             [
              0.8888888888888888,
              "#fdca26"
             ],
             [
              1,
              "#f0f921"
             ]
            ],
            "type": "heatmap"
           }
          ],
          "heatmapgl": [
           {
            "colorbar": {
             "outlinewidth": 0,
             "ticks": ""
            },
            "colorscale": [
             [
              0,
              "#0d0887"
             ],
             [
              0.1111111111111111,
              "#46039f"
             ],
             [
              0.2222222222222222,
              "#7201a8"
             ],
             [
              0.3333333333333333,
              "#9c179e"
             ],
             [
              0.4444444444444444,
              "#bd3786"
             ],
             [
              0.5555555555555556,
              "#d8576b"
             ],
             [
              0.6666666666666666,
              "#ed7953"
             ],
             [
              0.7777777777777778,
              "#fb9f3a"
             ],
             [
              0.8888888888888888,
              "#fdca26"
             ],
             [
              1,
              "#f0f921"
             ]
            ],
            "type": "heatmapgl"
           }
          ],
          "histogram": [
           {
            "marker": {
             "colorbar": {
              "outlinewidth": 0,
              "ticks": ""
             }
            },
            "type": "histogram"
           }
          ],
          "histogram2d": [
           {
            "colorbar": {
             "outlinewidth": 0,
             "ticks": ""
            },
            "colorscale": [
             [
              0,
              "#0d0887"
             ],
             [
              0.1111111111111111,
              "#46039f"
             ],
             [
              0.2222222222222222,
              "#7201a8"
             ],
             [
              0.3333333333333333,
              "#9c179e"
             ],
             [
              0.4444444444444444,
              "#bd3786"
             ],
             [
              0.5555555555555556,
              "#d8576b"
             ],
             [
              0.6666666666666666,
              "#ed7953"
             ],
             [
              0.7777777777777778,
              "#fb9f3a"
             ],
             [
              0.8888888888888888,
              "#fdca26"
             ],
             [
              1,
              "#f0f921"
             ]
            ],
            "type": "histogram2d"
           }
          ],
          "histogram2dcontour": [
           {
            "colorbar": {
             "outlinewidth": 0,
             "ticks": ""
            },
            "colorscale": [
             [
              0,
              "#0d0887"
             ],
             [
              0.1111111111111111,
              "#46039f"
             ],
             [
              0.2222222222222222,
              "#7201a8"
             ],
             [
              0.3333333333333333,
              "#9c179e"
             ],
             [
              0.4444444444444444,
              "#bd3786"
             ],
             [
              0.5555555555555556,
              "#d8576b"
             ],
             [
              0.6666666666666666,
              "#ed7953"
             ],
             [
              0.7777777777777778,
              "#fb9f3a"
             ],
             [
              0.8888888888888888,
              "#fdca26"
             ],
             [
              1,
              "#f0f921"
             ]
            ],
            "type": "histogram2dcontour"
           }
          ],
          "mesh3d": [
           {
            "colorbar": {
             "outlinewidth": 0,
             "ticks": ""
            },
            "type": "mesh3d"
           }
          ],
          "parcoords": [
           {
            "line": {
             "colorbar": {
              "outlinewidth": 0,
              "ticks": ""
             }
            },
            "type": "parcoords"
           }
          ],
          "pie": [
           {
            "automargin": true,
            "type": "pie"
           }
          ],
          "scatter": [
           {
            "marker": {
             "colorbar": {
              "outlinewidth": 0,
              "ticks": ""
             }
            },
            "type": "scatter"
           }
          ],
          "scatter3d": [
           {
            "line": {
             "colorbar": {
              "outlinewidth": 0,
              "ticks": ""
             }
            },
            "marker": {
             "colorbar": {
              "outlinewidth": 0,
              "ticks": ""
             }
            },
            "type": "scatter3d"
           }
          ],
          "scattercarpet": [
           {
            "marker": {
             "colorbar": {
              "outlinewidth": 0,
              "ticks": ""
             }
            },
            "type": "scattercarpet"
           }
          ],
          "scattergeo": [
           {
            "marker": {
             "colorbar": {
              "outlinewidth": 0,
              "ticks": ""
             }
            },
            "type": "scattergeo"
           }
          ],
          "scattergl": [
           {
            "marker": {
             "colorbar": {
              "outlinewidth": 0,
              "ticks": ""
             }
            },
            "type": "scattergl"
           }
          ],
          "scattermapbox": [
           {
            "marker": {
             "colorbar": {
              "outlinewidth": 0,
              "ticks": ""
             }
            },
            "type": "scattermapbox"
           }
          ],
          "scatterpolar": [
           {
            "marker": {
             "colorbar": {
              "outlinewidth": 0,
              "ticks": ""
             }
            },
            "type": "scatterpolar"
           }
          ],
          "scatterpolargl": [
           {
            "marker": {
             "colorbar": {
              "outlinewidth": 0,
              "ticks": ""
             }
            },
            "type": "scatterpolargl"
           }
          ],
          "scatterternary": [
           {
            "marker": {
             "colorbar": {
              "outlinewidth": 0,
              "ticks": ""
             }
            },
            "type": "scatterternary"
           }
          ],
          "surface": [
           {
            "colorbar": {
             "outlinewidth": 0,
             "ticks": ""
            },
            "colorscale": [
             [
              0,
              "#0d0887"
             ],
             [
              0.1111111111111111,
              "#46039f"
             ],
             [
              0.2222222222222222,
              "#7201a8"
             ],
             [
              0.3333333333333333,
              "#9c179e"
             ],
             [
              0.4444444444444444,
              "#bd3786"
             ],
             [
              0.5555555555555556,
              "#d8576b"
             ],
             [
              0.6666666666666666,
              "#ed7953"
             ],
             [
              0.7777777777777778,
              "#fb9f3a"
             ],
             [
              0.8888888888888888,
              "#fdca26"
             ],
             [
              1,
              "#f0f921"
             ]
            ],
            "type": "surface"
           }
          ],
          "table": [
           {
            "cells": {
             "fill": {
              "color": "#EBF0F8"
             },
             "line": {
              "color": "white"
             }
            },
            "header": {
             "fill": {
              "color": "#C8D4E3"
             },
             "line": {
              "color": "white"
             }
            },
            "type": "table"
           }
          ]
         },
         "layout": {
          "annotationdefaults": {
           "arrowcolor": "#2a3f5f",
           "arrowhead": 0,
           "arrowwidth": 1
          },
          "autotypenumbers": "strict",
          "coloraxis": {
           "colorbar": {
            "outlinewidth": 0,
            "ticks": ""
           }
          },
          "colorscale": {
           "diverging": [
            [
             0,
             "#8e0152"
            ],
            [
             0.1,
             "#c51b7d"
            ],
            [
             0.2,
             "#de77ae"
            ],
            [
             0.3,
             "#f1b6da"
            ],
            [
             0.4,
             "#fde0ef"
            ],
            [
             0.5,
             "#f7f7f7"
            ],
            [
             0.6,
             "#e6f5d0"
            ],
            [
             0.7,
             "#b8e186"
            ],
            [
             0.8,
             "#7fbc41"
            ],
            [
             0.9,
             "#4d9221"
            ],
            [
             1,
             "#276419"
            ]
           ],
           "sequential": [
            [
             0,
             "#0d0887"
            ],
            [
             0.1111111111111111,
             "#46039f"
            ],
            [
             0.2222222222222222,
             "#7201a8"
            ],
            [
             0.3333333333333333,
             "#9c179e"
            ],
            [
             0.4444444444444444,
             "#bd3786"
            ],
            [
             0.5555555555555556,
             "#d8576b"
            ],
            [
             0.6666666666666666,
             "#ed7953"
            ],
            [
             0.7777777777777778,
             "#fb9f3a"
            ],
            [
             0.8888888888888888,
             "#fdca26"
            ],
            [
             1,
             "#f0f921"
            ]
           ],
           "sequentialminus": [
            [
             0,
             "#0d0887"
            ],
            [
             0.1111111111111111,
             "#46039f"
            ],
            [
             0.2222222222222222,
             "#7201a8"
            ],
            [
             0.3333333333333333,
             "#9c179e"
            ],
            [
             0.4444444444444444,
             "#bd3786"
            ],
            [
             0.5555555555555556,
             "#d8576b"
            ],
            [
             0.6666666666666666,
             "#ed7953"
            ],
            [
             0.7777777777777778,
             "#fb9f3a"
            ],
            [
             0.8888888888888888,
             "#fdca26"
            ],
            [
             1,
             "#f0f921"
            ]
           ]
          },
          "colorway": [
           "#636efa",
           "#EF553B",
           "#00cc96",
           "#ab63fa",
           "#FFA15A",
           "#19d3f3",
           "#FF6692",
           "#B6E880",
           "#FF97FF",
           "#FECB52"
          ],
          "font": {
           "color": "#2a3f5f"
          },
          "geo": {
           "bgcolor": "white",
           "lakecolor": "white",
           "landcolor": "#E5ECF6",
           "showlakes": true,
           "showland": true,
           "subunitcolor": "white"
          },
          "hoverlabel": {
           "align": "left"
          },
          "hovermode": "closest",
          "mapbox": {
           "style": "light"
          },
          "paper_bgcolor": "white",
          "plot_bgcolor": "#E5ECF6",
          "polar": {
           "angularaxis": {
            "gridcolor": "white",
            "linecolor": "white",
            "ticks": ""
           },
           "bgcolor": "#E5ECF6",
           "radialaxis": {
            "gridcolor": "white",
            "linecolor": "white",
            "ticks": ""
           }
          },
          "scene": {
           "xaxis": {
            "backgroundcolor": "#E5ECF6",
            "gridcolor": "white",
            "gridwidth": 2,
            "linecolor": "white",
            "showbackground": true,
            "ticks": "",
            "zerolinecolor": "white"
           },
           "yaxis": {
            "backgroundcolor": "#E5ECF6",
            "gridcolor": "white",
            "gridwidth": 2,
            "linecolor": "white",
            "showbackground": true,
            "ticks": "",
            "zerolinecolor": "white"
           },
           "zaxis": {
            "backgroundcolor": "#E5ECF6",
            "gridcolor": "white",
            "gridwidth": 2,
            "linecolor": "white",
            "showbackground": true,
            "ticks": "",
            "zerolinecolor": "white"
           }
          },
          "shapedefaults": {
           "line": {
            "color": "#2a3f5f"
           }
          },
          "ternary": {
           "aaxis": {
            "gridcolor": "white",
            "linecolor": "white",
            "ticks": ""
           },
           "baxis": {
            "gridcolor": "white",
            "linecolor": "white",
            "ticks": ""
           },
           "bgcolor": "#E5ECF6",
           "caxis": {
            "gridcolor": "white",
            "linecolor": "white",
            "ticks": ""
           }
          },
          "title": {
           "x": 0.05
          },
          "xaxis": {
           "automargin": true,
           "gridcolor": "white",
           "linecolor": "white",
           "ticks": "",
           "title": {
            "standoff": 15
           },
           "zerolinecolor": "white",
           "zerolinewidth": 2
          },
          "yaxis": {
           "automargin": true,
           "gridcolor": "white",
           "linecolor": "white",
           "ticks": "",
           "title": {
            "standoff": 15
           },
           "zerolinecolor": "white",
           "zerolinewidth": 2
          }
         }
        },
        "title": {
         "text": "Scree Plot"
        },
        "xaxis": {
         "anchor": "y",
         "domain": [
          0,
          1
         ],
         "title": {
          "text": "Factors"
         }
        },
        "yaxis": {
         "anchor": "x",
         "domain": [
          0,
          1
         ],
         "title": {
          "text": "Eigenvalue"
         }
        }
       }
      }
     },
     "metadata": {},
     "output_type": "display_data"
    }
   ],
   "source": [
    "import plotly.express as px\n",
    "# Get eigenvalues\n",
    "ev, v = fa.get_eigenvalues()\n",
    "\n",
    "# Create an interactive scree plot using plotly\n",
    "fig = px.scatter(x=range(1, len(ev) + 1), y=ev, labels={'x': 'Factors', 'y': 'Eigenvalue'}, title='Scree Plot')\n",
    "fig.add_traces(px.line(x=range(1, len(ev) + 1), y=ev).data)\n",
    "\n",
    "# Show the plot\n",
    "fig.show()"
   ]
  }
 ],
 "metadata": {
  "kernelspec": {
   "display_name": "Python 3",
   "language": "python",
   "name": "python3"
  },
  "language_info": {
   "codemirror_mode": {
    "name": "ipython",
    "version": 3
   },
   "file_extension": ".py",
   "mimetype": "text/x-python",
   "name": "python",
   "nbconvert_exporter": "python",
   "pygments_lexer": "ipython3",
   "version": "3.8.5"
  }
 },
 "nbformat": 4,
 "nbformat_minor": 2
}
